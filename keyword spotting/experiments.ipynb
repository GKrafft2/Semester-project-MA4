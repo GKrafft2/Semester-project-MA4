{
 "cells": [
  {
   "attachments": {},
   "cell_type": "markdown",
   "metadata": {},
   "source": [
    "# Keyword spotting"
   ]
  },
  {
   "attachments": {},
   "cell_type": "markdown",
   "metadata": {},
   "source": [
    "[Interesting Article about audio](https://www.seeedstudio.com/blog/2018/11/23/6-important-speech-recognition-technology-you-need-to-know/)"
   ]
  },
  {
   "attachments": {},
   "cell_type": "markdown",
   "metadata": {},
   "source": [
    "Keyword spotting consits of detecting a limited set of keywords, this is typically what is used to wake up IoT devices (Alexa etc.). One of the datasets available is called [Google Speech Commands](https://ai.googleblog.com/2017/08/launching-speech-commands-dataset.html) here his the [related paper](https://arxiv.org/abs/1804.03209). This is the one we are going to focus on. It contains a list of 35 words for a total  of 105'829 utterances. They were recored by different users all using their phone or laptop mic (the data was collected using a web application). The dataset also contains backgrouind noise audio (see \"_background_noise_\" folder), because it is important to be bale to distinguish audio that contains speech from audio that contains none.\n",
    "\n",
    "Here is the list of words and the number of occurences:\n",
    "\n",
    "![List of keywords](images/Capture.PNG)\n",
    "\n",
    "For the project we could use several of those keywords for the robot to understand. We use the V2 version of the dataset.\n"
   ]
  },
  {
   "attachments": {},
   "cell_type": "markdown",
   "metadata": {},
   "source": [
    "As a sidenode a framework called [fairseq](https://github.com/facebookresearch/fairseq) could be used for more complex speech recognition task. It is very popular (+20k stars on github)"
   ]
  },
  {
   "attachments": {},
   "cell_type": "markdown",
   "metadata": {},
   "source": [
    "We will use the model implemented in this [paper](https://arxiv.org/ftp/arxiv/papers/2101/2101.04792.pdf) as it has the best SOTA results on [papers with code](https://paperswithcode.com/sota/keyword-spotting-on-google-speech-commands ) on our dataset. "
   ]
  },
  {
   "cell_type": "code",
   "execution_count": 6,
   "metadata": {},
   "outputs": [
    {
     "name": "stdout",
     "output_type": "stream",
     "text": [
      "Requirement already satisfied: nemo-toolkit in c:\\users\\eliot\\anaconda3\\envs\\semproj\\lib\\site-packages (1.17.0)\n",
      "Requirement already satisfied: torch in c:\\users\\eliot\\anaconda3\\envs\\semproj\\lib\\site-packages (from nemo-toolkit) (1.13.1+cu116)\n",
      "Requirement already satisfied: tqdm>=4.41.0 in c:\\users\\eliot\\anaconda3\\envs\\semproj\\lib\\site-packages (from nemo-toolkit) (4.65.0)\n",
      "Requirement already satisfied: ruamel.yaml in c:\\users\\eliot\\anaconda3\\envs\\semproj\\lib\\site-packages (from nemo-toolkit) (0.17.21)\n",
      "Requirement already satisfied: text-unidecode in c:\\users\\eliot\\anaconda3\\envs\\semproj\\lib\\site-packages (from nemo-toolkit) (1.3)\n",
      "Requirement already satisfied: onnx>=1.7.0 in c:\\users\\eliot\\anaconda3\\envs\\semproj\\lib\\site-packages (from nemo-toolkit) (1.13.1)\n",
      "Requirement already satisfied: scikit-learn in c:\\users\\eliot\\anaconda3\\envs\\semproj\\lib\\site-packages (from nemo-toolkit) (1.2.2)\n",
      "Requirement already satisfied: tensorboard in c:\\users\\eliot\\anaconda3\\envs\\semproj\\lib\\site-packages (from nemo-toolkit) (2.12.2)\n",
      "Requirement already satisfied: wrapt in c:\\users\\eliot\\anaconda3\\envs\\semproj\\lib\\site-packages (from nemo-toolkit) (1.15.0)\n",
      "Requirement already satisfied: huggingface-hub in c:\\users\\eliot\\anaconda3\\envs\\semproj\\lib\\site-packages (from nemo-toolkit) (0.13.4)\n",
      "Requirement already satisfied: python-dateutil in c:\\users\\eliot\\anaconda3\\envs\\semproj\\lib\\site-packages (from nemo-toolkit) (2.8.2)\n",
      "Requirement already satisfied: numpy>=1.22 in c:\\users\\eliot\\anaconda3\\envs\\semproj\\lib\\site-packages (from nemo-toolkit) (1.23.5)\n",
      "Requirement already satisfied: wget in c:\\users\\eliot\\anaconda3\\envs\\semproj\\lib\\site-packages (from nemo-toolkit) (3.2)\n",
      "Requirement already satisfied: setuptools==65.5.1 in c:\\users\\eliot\\anaconda3\\envs\\semproj\\lib\\site-packages (from nemo-toolkit) (65.5.1)\n",
      "Requirement already satisfied: numba in c:\\users\\eliot\\anaconda3\\envs\\semproj\\lib\\site-packages (from nemo-toolkit) (0.56.4)\n",
      "Requirement already satisfied: typing-extensions>=3.6.2.1 in c:\\users\\eliot\\anaconda3\\envs\\semproj\\lib\\site-packages (from onnx>=1.7.0->nemo-toolkit) (4.5.0)\n",
      "Requirement already satisfied: protobuf<4,>=3.20.2 in c:\\users\\eliot\\anaconda3\\envs\\semproj\\lib\\site-packages (from onnx>=1.7.0->nemo-toolkit) (3.20.3)\n",
      "Requirement already satisfied: colorama in c:\\users\\eliot\\anaconda3\\envs\\semproj\\lib\\site-packages (from tqdm>=4.41.0->nemo-toolkit) (0.4.6)\n",
      "Requirement already satisfied: requests in c:\\users\\eliot\\anaconda3\\envs\\semproj\\lib\\site-packages (from huggingface-hub->nemo-toolkit) (2.28.2)\n",
      "Requirement already satisfied: packaging>=20.9 in c:\\users\\eliot\\anaconda3\\envs\\semproj\\lib\\site-packages (from huggingface-hub->nemo-toolkit) (23.0)\n",
      "Requirement already satisfied: filelock in c:\\users\\eliot\\anaconda3\\envs\\semproj\\lib\\site-packages (from huggingface-hub->nemo-toolkit) (3.12.0)\n",
      "Requirement already satisfied: pyyaml>=5.1 in c:\\users\\eliot\\anaconda3\\envs\\semproj\\lib\\site-packages (from huggingface-hub->nemo-toolkit) (6.0)\n",
      "Requirement already satisfied: llvmlite<0.40,>=0.39.0dev0 in c:\\users\\eliot\\anaconda3\\envs\\semproj\\lib\\site-packages (from numba->nemo-toolkit) (0.39.1)\n",
      "Requirement already satisfied: six>=1.5 in c:\\users\\eliot\\anaconda3\\envs\\semproj\\lib\\site-packages (from python-dateutil->nemo-toolkit) (1.16.0)\n",
      "Requirement already satisfied: ruamel.yaml.clib>=0.2.6 in c:\\users\\eliot\\anaconda3\\envs\\semproj\\lib\\site-packages (from ruamel.yaml->nemo-toolkit) (0.2.7)\n",
      "Requirement already satisfied: scipy>=1.3.2 in c:\\users\\eliot\\anaconda3\\envs\\semproj\\lib\\site-packages (from scikit-learn->nemo-toolkit) (1.10.1)\n",
      "Requirement already satisfied: threadpoolctl>=2.0.0 in c:\\users\\eliot\\anaconda3\\envs\\semproj\\lib\\site-packages (from scikit-learn->nemo-toolkit) (3.1.0)\n",
      "Requirement already satisfied: joblib>=1.1.1 in c:\\users\\eliot\\anaconda3\\envs\\semproj\\lib\\site-packages (from scikit-learn->nemo-toolkit) (1.2.0)\n",
      "Requirement already satisfied: tensorboard-plugin-wit>=1.6.0 in c:\\users\\eliot\\anaconda3\\envs\\semproj\\lib\\site-packages (from tensorboard->nemo-toolkit) (1.8.1)\n",
      "Requirement already satisfied: werkzeug>=1.0.1 in c:\\users\\eliot\\anaconda3\\envs\\semproj\\lib\\site-packages (from tensorboard->nemo-toolkit) (2.2.3)\n",
      "Requirement already satisfied: absl-py>=0.4 in c:\\users\\eliot\\anaconda3\\envs\\semproj\\lib\\site-packages (from tensorboard->nemo-toolkit) (1.4.0)\n",
      "Requirement already satisfied: wheel>=0.26 in c:\\users\\eliot\\anaconda3\\envs\\semproj\\lib\\site-packages (from tensorboard->nemo-toolkit) (0.38.4)\n",
      "Requirement already satisfied: google-auth<3,>=1.6.3 in c:\\users\\eliot\\anaconda3\\envs\\semproj\\lib\\site-packages (from tensorboard->nemo-toolkit) (2.17.3)\n",
      "Requirement already satisfied: grpcio>=1.48.2 in c:\\users\\eliot\\anaconda3\\envs\\semproj\\lib\\site-packages (from tensorboard->nemo-toolkit) (1.54.0)\n",
      "Requirement already satisfied: tensorboard-data-server<0.8.0,>=0.7.0 in c:\\users\\eliot\\anaconda3\\envs\\semproj\\lib\\site-packages (from tensorboard->nemo-toolkit) (0.7.0)\n",
      "Requirement already satisfied: markdown>=2.6.8 in c:\\users\\eliot\\anaconda3\\envs\\semproj\\lib\\site-packages (from tensorboard->nemo-toolkit) (3.4.3)\n",
      "Requirement already satisfied: google-auth-oauthlib<1.1,>=0.5 in c:\\users\\eliot\\anaconda3\\envs\\semproj\\lib\\site-packages (from tensorboard->nemo-toolkit) (1.0.0)\n",
      "Requirement already satisfied: cachetools<6.0,>=2.0.0 in c:\\users\\eliot\\anaconda3\\envs\\semproj\\lib\\site-packages (from google-auth<3,>=1.6.3->tensorboard->nemo-toolkit) (5.3.0)\n",
      "Requirement already satisfied: pyasn1-modules>=0.2.1 in c:\\users\\eliot\\anaconda3\\envs\\semproj\\lib\\site-packages (from google-auth<3,>=1.6.3->tensorboard->nemo-toolkit) (0.3.0)\n",
      "Requirement already satisfied: rsa<5,>=3.1.4 in c:\\users\\eliot\\anaconda3\\envs\\semproj\\lib\\site-packages (from google-auth<3,>=1.6.3->tensorboard->nemo-toolkit) (4.9)\n",
      "Requirement already satisfied: requests-oauthlib>=0.7.0 in c:\\users\\eliot\\anaconda3\\envs\\semproj\\lib\\site-packages (from google-auth-oauthlib<1.1,>=0.5->tensorboard->nemo-toolkit) (1.3.1)\n",
      "Requirement already satisfied: importlib-metadata>=4.4 in c:\\users\\eliot\\anaconda3\\envs\\semproj\\lib\\site-packages (from markdown>=2.6.8->tensorboard->nemo-toolkit) (6.0.0)\n",
      "Requirement already satisfied: urllib3<1.27,>=1.21.1 in c:\\users\\eliot\\anaconda3\\envs\\semproj\\lib\\site-packages (from requests->huggingface-hub->nemo-toolkit) (1.26.14)\n",
      "Requirement already satisfied: charset-normalizer<4,>=2 in c:\\users\\eliot\\anaconda3\\envs\\semproj\\lib\\site-packages (from requests->huggingface-hub->nemo-toolkit) (2.0.4)\n",
      "Requirement already satisfied: idna<4,>=2.5 in c:\\users\\eliot\\anaconda3\\envs\\semproj\\lib\\site-packages (from requests->huggingface-hub->nemo-toolkit) (3.4)\n",
      "Requirement already satisfied: certifi>=2017.4.17 in c:\\users\\eliot\\anaconda3\\envs\\semproj\\lib\\site-packages (from requests->huggingface-hub->nemo-toolkit) (2022.12.7)\n",
      "Requirement already satisfied: MarkupSafe>=2.1.1 in c:\\users\\eliot\\anaconda3\\envs\\semproj\\lib\\site-packages (from werkzeug>=1.0.1->tensorboard->nemo-toolkit) (2.1.1)\n",
      "Requirement already satisfied: zipp>=0.5 in c:\\users\\eliot\\anaconda3\\envs\\semproj\\lib\\site-packages (from importlib-metadata>=4.4->markdown>=2.6.8->tensorboard->nemo-toolkit) (3.15.0)\n",
      "Requirement already satisfied: pyasn1<0.6.0,>=0.4.6 in c:\\users\\eliot\\anaconda3\\envs\\semproj\\lib\\site-packages (from pyasn1-modules>=0.2.1->google-auth<3,>=1.6.3->tensorboard->nemo-toolkit) (0.5.0)\n",
      "Requirement already satisfied: oauthlib>=3.0.0 in c:\\users\\eliot\\anaconda3\\envs\\semproj\\lib\\site-packages (from requests-oauthlib>=0.7.0->google-auth-oauthlib<1.1,>=0.5->tensorboard->nemo-toolkit) (3.2.2)\n"
     ]
    },
    {
     "name": "stderr",
     "output_type": "stream",
     "text": [
      "ERROR: You must give at least one requirement to install (see \"pip help install\")\n"
     ]
    },
    {
     "name": "stdout",
     "output_type": "stream",
     "text": [
      "Collecting package metadata (current_repodata.json): ...working... done\n",
      "Solving environment: ...working... failed with initial frozen solve. Retrying with flexible solve.\n",
      "Collecting package metadata (repodata.json): ...working... done\n",
      "Solving environment: ...working... failed with initial frozen solve. Retrying with flexible solve.\n"
     ]
    },
    {
     "name": "stderr",
     "output_type": "stream",
     "text": [
      "\n",
      "PackagesNotFoundError: The following packages are not available from current channels:\n",
      "\n",
      "  - faiss-gpu\n",
      "\n",
      "Current channels:\n",
      "\n",
      "  - https://conda.anaconda.org/pytorch/win-64\n",
      "  - https://conda.anaconda.org/pytorch/noarch\n",
      "  - https://repo.anaconda.com/pkgs/main/win-64\n",
      "  - https://repo.anaconda.com/pkgs/main/noarch\n",
      "  - https://repo.anaconda.com/pkgs/r/win-64\n",
      "  - https://repo.anaconda.com/pkgs/r/noarch\n",
      "  - https://repo.anaconda.com/pkgs/msys2/win-64\n",
      "  - https://repo.anaconda.com/pkgs/msys2/noarch\n",
      "\n",
      "To search for alternate channels that may provide the conda package you're\n",
      "looking for, navigate to\n",
      "\n",
      "    https://anaconda.org\n",
      "\n",
      "and use the search bar at the top of the page.\n",
      "\n",
      "\n"
     ]
    },
    {
     "name": "stdout",
     "output_type": "stream",
     "text": [
      "Requirement already satisfied: TextGrid in c:\\users\\eliot\\anaconda3\\envs\\semproj\\lib\\site-packages (1.5)\n",
      "Collecting hydra-core\n",
      "  Downloading hydra_core-1.3.2-py3-none-any.whl (154 kB)\n",
      "     -------------------------------------- 154.5/154.5 kB 9.0 MB/s eta 0:00:00\n",
      "Collecting antlr4-python3-runtime==4.9.*\n",
      "  Downloading antlr4-python3-runtime-4.9.3.tar.gz (117 kB)\n",
      "     ---------------------------------------- 117.0/117.0 kB ? eta 0:00:00\n",
      "  Preparing metadata (setup.py): started\n",
      "  Preparing metadata (setup.py): finished with status 'done'\n",
      "Requirement already satisfied: packaging in c:\\users\\eliot\\anaconda3\\envs\\semproj\\lib\\site-packages (from hydra-core) (23.0)\n",
      "Collecting omegaconf<2.4,>=2.2\n",
      "  Downloading omegaconf-2.3.0-py3-none-any.whl (79 kB)\n",
      "     ---------------------------------------- 79.5/79.5 kB ? eta 0:00:00\n",
      "Requirement already satisfied: PyYAML>=5.1.0 in c:\\users\\eliot\\anaconda3\\envs\\semproj\\lib\\site-packages (from omegaconf<2.4,>=2.2->hydra-core) (6.0)\n",
      "Building wheels for collected packages: antlr4-python3-runtime\n",
      "  Building wheel for antlr4-python3-runtime (setup.py): started\n",
      "  Building wheel for antlr4-python3-runtime (setup.py): finished with status 'done'\n",
      "  Created wheel for antlr4-python3-runtime: filename=antlr4_python3_runtime-4.9.3-py3-none-any.whl size=144578 sha256=d53ff80f813bd15d6e6b2a592f1f5514f90be3f05803fec267e93689efbb23c8\n",
      "  Stored in directory: c:\\users\\eliot\\appdata\\local\\pip\\cache\\wheels\\a7\\72\\3e\\7d4bb4df2f34e8a15d0d764bb98e7ca19a765483710646a8b3\n",
      "Successfully built antlr4-python3-runtime\n",
      "Installing collected packages: antlr4-python3-runtime, omegaconf, hydra-core\n",
      "Successfully installed antlr4-python3-runtime-4.9.3 hydra-core-1.3.2 omegaconf-2.3.0\n"
     ]
    }
   ],
   "source": [
    "# ! pip install nemo-toolkit\n",
    "# ! pip install \n",
    "# ! conda install -c pytorch faiss-gpu\n",
    "# ! pip install TextGrid\n",
    "# ! pip install hydra-core\n",
    "# ! pip install pyannote.audio\n",
    "# ! pip install webdataset\n",
    "# ! pip install inflect\n",
    "# ! pip install youtokentome\n",
    "# ! pip install sentencepiece\n",
    "# ! pip install transformers\n",
    "# ! pip install pytorch-lightning\n",
    "# ! pip install braceexpand"
   ]
  },
  {
   "cell_type": "code",
   "execution_count": 32,
   "metadata": {},
   "outputs": [],
   "source": [
    "import torch\n",
    "import torch.nn as nn\n",
    "import torch.nn.functional as F"
   ]
  },
  {
   "cell_type": "code",
   "execution_count": 33,
   "metadata": {},
   "outputs": [],
   "source": [
    "class Res15(nn.Module):\n",
    "    def __init__(self, n_maps):\n",
    "        super(Res15, self).__init__()\n",
    "        n_maps = n_maps\n",
    "        self.conv0 = nn.Conv2d(1, n_maps, (3, 3), padding=(1, 1), bias=False)\n",
    "        self.n_layers = n_layers = 13\n",
    "        dilation = True\n",
    "        if dilation:\n",
    "            self.convs = [nn.Conv2d(n_maps, n_maps, (3, 3), padding=int(2 ** (i // 3)), dilation=int(2 ** (i // 3)),\n",
    "                                    bias=False) for i in range(n_layers)]\n",
    "        else:\n",
    "            self.convs = [nn.Conv2d(n_maps, n_maps, (3, 3), padding=1, dilation=1,\n",
    "                                    bias=False) for _ in range(n_layers)]\n",
    "        for i, conv in enumerate(self.convs):\n",
    "            self.add_module(\"bn{}\".format(i + 1), nn.BatchNorm2d(n_maps, affine=False))\n",
    "            self.add_module(\"conv{}\".format(i + 1), conv)\n",
    "\n",
    "    def forward(self, audio_signal, length=None):\n",
    "        x = audio_signal.unsqueeze(1)\n",
    "        for i in range(self.n_layers + 1):\n",
    "            y = F.relu(getattr(self, \"conv{}\".format(i))(x))\n",
    "            if i == 0:\n",
    "                if hasattr(self, \"pool\"):\n",
    "                    y = self.pool(y)\n",
    "                old_x = y\n",
    "            if i > 0 and i % 2 == 0:\n",
    "                x = y + old_x\n",
    "                old_x = x\n",
    "            else:\n",
    "                x = y\n",
    "            if i > 0:\n",
    "                x = getattr(self, \"bn{}\".format(i))(x)\n",
    "        x = x.view(x.size(0), x.size(1), -1)  # shape: (batch, feats, o3)\n",
    "        x = torch.mean(x, 2)\n",
    "        return x.unsqueeze(-2), length"
   ]
  }
 ],
 "metadata": {
  "kernelspec": {
   "display_name": "semproj",
   "language": "python",
   "name": "python3"
  },
  "language_info": {
   "codemirror_mode": {
    "name": "ipython",
    "version": 3
   },
   "file_extension": ".py",
   "mimetype": "text/x-python",
   "name": "python",
   "nbconvert_exporter": "python",
   "pygments_lexer": "ipython3",
   "version": "3.9.16"
  },
  "orig_nbformat": 4,
  "vscode": {
   "interpreter": {
    "hash": "6a1eca162d8244ec663334057c1610a3bae01391a28d85af84dac413dee83203"
   }
  }
 },
 "nbformat": 4,
 "nbformat_minor": 2
}
