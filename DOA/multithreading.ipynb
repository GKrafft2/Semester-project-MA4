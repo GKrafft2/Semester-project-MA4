{
 "cells": [
  {
   "cell_type": "code",
   "execution_count": 3,
   "metadata": {},
   "outputs": [],
   "source": [
    "import threading\n",
    "import pyaudio\n",
    "import wave\n",
    "from time import sleep\n",
    "import sounddevice as sd\n",
    "import soundfile as sf\n",
    "import os"
   ]
  },
  {
   "cell_type": "code",
   "execution_count": 14,
   "metadata": {},
   "outputs": [
    {
     "name": "stderr",
     "output_type": "stream",
     "text": [
      "Exception in thread Thread-20:\n",
      "Traceback (most recent call last):\n",
      "  File \"/home/guillaume/anaconda3/envs/semproj/lib/python3.9/threading.py\", line 980, in _bootstrap_inner\n",
      "Exception in thread Thread-21:\n",
      "Traceback (most recent call last):\n",
      "  File \"/home/guillaume/anaconda3/envs/semproj/lib/python3.9/threading.py\", line 980, in _bootstrap_inner\n",
      "    self.run()\n",
      "  File \"/home/guillaume/anaconda3/envs/semproj/lib/python3.9/threading.py\", line 917, in run\n",
      "    self.run()\n",
      "  File \"/home/guillaume/anaconda3/envs/semproj/lib/python3.9/threading.py\", line 917, in run\n",
      "    self._target(*self._args, **self._kwargs)\n",
      "  File \"/tmp/ipykernel_39914/581769443.py\", line 30, in record_microphone\n",
      "    self._target(*self._args, **self._kwargs)\n",
      "  File \"/tmp/ipykernel_39914/581769443.py\", line 30, in record_microphone\n",
      "  File \"/home/guillaume/anaconda3/envs/semproj/lib/python3.9/site-packages/sounddevice.py\", line 268, in rec\n",
      "  File \"/home/guillaume/anaconda3/envs/semproj/lib/python3.9/site-packages/sounddevice.py\", line 268, in rec\n",
      "    out, ctx.frames = ctx.check_out(out, frames, channels, dtype, mapping)\n",
      "  File \"/home/guillaume/anaconda3/envs/semproj/lib/python3.9/site-packages/sounddevice.py\", line 2514, in check_out\n",
      "    out, ctx.frames = ctx.check_out(out, frames, channels, dtype, mapping)\n",
      "  File \"/home/guillaume/anaconda3/envs/semproj/lib/python3.9/site-packages/sounddevice.py\", line 2514, in check_out\n",
      "    raise TypeError(\n",
      "TypeError: Unable to determine number of input channels\n",
      "    raise TypeError(\n",
      "TypeError: Unable to determine number of input channels\n"
     ]
    }
   ],
   "source": [
    "if os.path.exists(\"recording_1.wav\"):\n",
    "    os.remove(\"recording_1.wav\")\n",
    "\n",
    "if os.path.exists(\"recording_2.wav\"):\n",
    "    os.remove(\"recording_2.wav\")\n",
    "\n",
    "# Set up parameters for recording\n",
    "duration_sec = 1\n",
    "sample_rate = 44100\n",
    "channels = 1\n",
    "blocksize = 1024\n",
    "\n",
    "# Find the index of the USB microphones\n",
    "mic_index_1 = None\n",
    "mic_index_2 = None\n",
    "devices = sd.query_devices()\n",
    "for i, dev in enumerate(devices):\n",
    "    if dev[\"max_input_channels\"] > 0 and \"USB\" in dev[\"name\"]:\n",
    "        if mic_index_1 is None:\n",
    "            mic_index_1 = i\n",
    "        else:\n",
    "            mic_index_2 = i\n",
    "            break\n",
    "\n",
    "# Define a function for recording audio from one microphone\n",
    "def record_microphone(device_index, filename):\n",
    "    with sf.SoundFile(filename, mode='x', samplerate=sample_rate, channels=channels) as file:\n",
    "        with sd.InputStream(device=device_index, channels=channels, samplerate=sample_rate):\n",
    "            while True:\n",
    "                data, overflowed = sd.rec(int(blocksize), blocking=True)\n",
    "                if overflowed:\n",
    "                    print(\"Overflow occurred!\")\n",
    "                file.write(data)\n",
    "\n",
    "# Start recording from both microphones in separate threads\n",
    "thread_1 = threading.Thread(target=record_microphone, args=(mic_index_1, 'recording_1.wav'))\n",
    "thread_2 = threading.Thread(target=record_microphone, args=(mic_index_2, 'recording_2.wav'))\n",
    "thread_1.start()\n",
    "thread_2.start()\n",
    "\n",
    "# Wait for both threads to finish\n",
    "thread_1.join()\n",
    "thread_2.join()\n"
   ]
  },
  {
   "cell_type": "code",
   "execution_count": null,
   "metadata": {},
   "outputs": [],
   "source": []
  }
 ],
 "metadata": {
  "kernelspec": {
   "display_name": "semproj",
   "language": "python",
   "name": "python3"
  },
  "language_info": {
   "codemirror_mode": {
    "name": "ipython",
    "version": 3
   },
   "file_extension": ".py",
   "mimetype": "text/x-python",
   "name": "python",
   "nbconvert_exporter": "python",
   "pygments_lexer": "ipython3",
   "version": "3.9.16"
  },
  "orig_nbformat": 4
 },
 "nbformat": 4,
 "nbformat_minor": 2
}
